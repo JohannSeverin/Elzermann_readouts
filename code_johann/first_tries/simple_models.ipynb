{
 "cells": [
  {
   "cell_type": "markdown",
   "metadata": {},
   "source": [
    "# Simple Tensorflow Models"
   ]
  },
  {
   "cell_type": "markdown",
   "metadata": {},
   "source": [
    "In this Notebook we will be working on some simple tensorflow models for the classification. We will try out:\n",
    "- Baseline (a threshhold model to compare against)\n",
    "- Feed-forward network\n",
    "- LSTM network\n",
    "- Auto-encoder for anomaly detection"
   ]
  },
  {
   "cell_type": "markdown",
   "metadata": {},
   "source": [
    "## Setup of Data "
   ]
  },
  {
   "cell_type": "code",
   "execution_count": 2,
   "metadata": {},
   "outputs": [
    {
     "name": "stderr",
     "output_type": "stream",
     "text": [
      "2022-01-26 14:28:02.286838: W tensorflow/stream_executor/platform/default/dso_loader.cc:64] Could not load dynamic library 'libcudart.so.11.0'; dlerror: libcudart.so.11.0: cannot open shared object file: No such file or directory\n",
      "2022-01-26 14:28:02.286888: I tensorflow/stream_executor/cuda/cudart_stub.cc:29] Ignore above cudart dlerror if you do not have a GPU set up on your machine.\n"
     ]
    }
   ],
   "source": [
    "import os\n",
    "\n",
    "import numpy  as np\n",
    "import pandas as pd\n",
    "\n",
    "import matplotlib.pyplot as plt\n",
    "\n",
    "\n",
    "import tensorflow as tf\n",
    "\n",
    "from sklearn.model_selection import train_test_split\n",
    "from sklearn.metrics import roc_curve, roc_auc_score\n",
    "\n",
    "# Colors using scheme\n",
    "c = [\"#\" + i for i  in \"264653-2a9d8f-e9c46a-f4a261-e76f51\".split(\"-\")]"
   ]
  },
  {
   "cell_type": "code",
   "execution_count": 3,
   "metadata": {},
   "outputs": [],
   "source": [
    "data_trace_high = pd.read_csv(\"/mnt/c/Users/johan/Desktop/CMT_project/data/traces_high.txt\", sep = \" \", header = None)\n",
    "data_trace_low  = pd.read_csv(\"/mnt/c/Users/johan/Desktop/CMT_project/data/traces_low.txt\",  sep = \" \", header = None)"
   ]
  },
  {
   "cell_type": "code",
   "execution_count": 4,
   "metadata": {},
   "outputs": [],
   "source": [
    "rand_seed  = 1969\n",
    "test_split = 0.2\n",
    "\n",
    "\n",
    "high_labels = np.ones(data_trace_high.shape[0])\n",
    "low_labels  = np.zeros(data_trace_low.shape[0])\n",
    "\n",
    "data        = pd.concat([data_trace_high, data_trace_low])\n",
    "labels      = np.concatenate([high_labels,     low_labels])\n",
    "\n",
    "\n",
    "X_train, X_test, Y_train, Y_test = train_test_split(data, labels, test_size = test_split)"
   ]
  },
  {
   "cell_type": "markdown",
   "metadata": {},
   "source": [
    "## Baseline Models\n",
    "We will try to make some simple models, which we can use as a baseline which our Neural Networks have to compete with."
   ]
  },
  {
   "cell_type": "markdown",
   "metadata": {},
   "source": [
    "### Threshhold\n",
    "\n",
    "Simple models reading out simple characteristics"
   ]
  },
  {
   "cell_type": "markdown",
   "metadata": {},
   "source": [
    "In this model we simply look at timesteps between 50 and 100 and take the highest values. We will use that value as threshhold value in a ROC-curve"
   ]
  },
  {
   "cell_type": "code",
   "execution_count": 5,
   "metadata": {},
   "outputs": [
    {
     "name": "stdout",
     "output_type": "stream",
     "text": [
      "AUC score: 0.876\n"
     ]
    },
    {
     "data": {
      "image/png": "[encoded data removed]",
      "text/plain": [
       "<Figure size 432x288 with 1 Axes>"
      ]
     },
     "metadata": {
      "needs_background": "light"
     },
     "output_type": "display_data"
    }
   ],
   "source": [
    "peak_height = X_test.iloc[:, 50:150].max(1)\n",
    "\n",
    "roc         = roc_curve(Y_test, peak_height)\n",
    "auc         = roc_auc_score(Y_test, peak_height)\n",
    "\n",
    "plt.plot(roc[0], roc[1])\n",
    "\n",
    "print(f\"AUC score: {auc:.3f}\")\n"
   ]
  },
  {
   "cell_type": "markdown",
   "metadata": {},
   "source": [
    "### XGBoost\n",
    "Pretty much a boosted decision tree from the box. "
   ]
  },
  {
   "cell_type": "code",
   "execution_count": 6,
   "metadata": {},
   "outputs": [
    {
     "name": "stderr",
     "output_type": "stream",
     "text": [
      "/home/johannbs/anaconda3/envs/tensorflow/lib/python3.9/site-packages/xgboost/sklearn.py:1224: UserWarning: The use of label encoder in XGBClassifier is deprecated and will be removed in a future release. To remove this warning, do the following: 1) Pass option use_label_encoder=False when constructing XGBClassifier object; and 2) Encode your labels (y) as integers starting with 0, i.e. 0, 1, 2, ..., [num_class - 1].\n",
      "  warnings.warn(label_encoder_deprecation_msg, UserWarning)\n"
     ]
    },
    {
     "name": "stdout",
     "output_type": "stream",
     "text": [
      "[14:28:10] WARNING: ../src/learner.cc:1115: Starting in XGBoost 1.3.0, the default evaluation metric used with the objective 'binary:logistic' was changed from 'error' to 'logloss'. Explicitly set eval_metric if you'd like to restore the old behavior.\n"
     ]
    },
    {
     "data": {
      "text/plain": [
       "XGBClassifier(base_score=0.5, booster='gbtree', colsample_bylevel=1,\n",
       "              colsample_bynode=1, colsample_bytree=1, enable_categorical=False,\n",
       "              gamma=0, gpu_id=-1, importance_type=None,\n",
       "              interaction_constraints='', learning_rate=0.300000012,\n",
       "              max_delta_step=0, max_depth=6, min_child_weight=1, missing=nan,\n",
       "              monotone_constraints='()', n_estimators=100, n_jobs=8,\n",
       "              num_parallel_tree=1, predictor='auto', random_state=0,\n",
       "              reg_alpha=0, reg_lambda=1, scale_pos_weight=1, subsample=1,\n",
       "              tree_method='exact', validate_parameters=1, verbosity=None)"
      ]
     },
     "execution_count": 6,
     "metadata": {},
     "output_type": "execute_result"
    }
   ],
   "source": [
    "from xgboost import XGBClassifier\n",
    "from sklearn.preprocessing import RobustScaler\n",
    "\n",
    "def preprocess_xgboost(df):\n",
    "    data_fft = np.fft.rfft(df)\n",
    "\n",
    "    fft_abs   = np.abs(data_fft)\n",
    "    phase     = np.angle(data_fft)\n",
    "    phase_cos = np.cos(phase)\n",
    "    phase_sin = np.sin(phase) \n",
    "\n",
    "    data      = np.concatenate([df.to_numpy(), fft_abs, phase_cos, phase_sin], axis = 1)\n",
    "\n",
    "    return data\n",
    "\n",
    "xgboost_X_train = preprocess_xgboost(X_train)\n",
    "xgboost_X_test  = preprocess_xgboost(X_test)\n",
    "\n",
    "\n",
    "classifier      = XGBClassifier()\n",
    "\n",
    "\n",
    "classifier.fit(xgboost_X_train, Y_train)\n"
   ]
  },
  {
   "cell_type": "code",
   "execution_count": 35,
   "metadata": {},
   "outputs": [
    {
     "name": "stdout",
     "output_type": "stream",
     "text": [
      "0.8782646383836141\n"
     ]
    },
    {
     "data": {
      "text/plain": [
       "[<matplotlib.lines.Line2D at 0x7fb42c69c7f0>]"
      ]
     },
     "execution_count": 35,
     "metadata": {},
     "output_type": "execute_result"
    },
    {
     "data": {
      "image/png": "[encoded data removed]",
      "text/plain": [
       "<Figure size 432x288 with 1 Axes>"
      ]
     },
     "metadata": {
      "needs_background": "light"
     },
     "output_type": "display_data"
    }
   ],
   "source": [
    "xgboost_scores = classifier.predict_proba(xgboost_X_test)\n",
    "\n",
    "print(roc_auc_score(Y_test, xgboost_scores[:, 1]))\n",
    "\n",
    "\n",
    "xgboost_roc = roc_curve(Y_test, xgboost_scores[:, 1])\n",
    "\n",
    "plt.plot(xgboost_roc[0], xgboost_roc[1])"
   ]
  },
  {
   "cell_type": "markdown",
   "metadata": {},
   "source": [
    "## Neural Network Models\n"
   ]
  },
  {
   "cell_type": "markdown",
   "metadata": {},
   "source": [
    "### Simple Feed Forward"
   ]
  },
  {
   "cell_type": "code",
   "execution_count": 54,
   "metadata": {},
   "outputs": [],
   "source": [
    "# Scale data\n",
    "scaler = RobustScaler()\n",
    "\n",
    "X_train_scaled = np.expand_dims(scaler.fit_transform(X_train), -1)\n",
    "X_test_scaled  = np.expand_dims(scaler.transform(X_test), -1)"
   ]
  },
  {
   "cell_type": "code",
   "execution_count": 55,
   "metadata": {},
   "outputs": [],
   "source": [
    "from tensorflow.keras.layers import Dense, Input, BatchNormalization, Dropout, LSTM, Embedding, SimpleRNN\n",
    "from tensorflow.keras import Model\n",
    "from tensorflow.keras.metrics import AUC, BinaryAccuracy\n",
    "from tensorflow.keras.losses import BinaryCrossentropy\n",
    "from tensorflow.keras.optimizers import Adam"
   ]
  },
  {
   "cell_type": "code",
   "execution_count": 63,
   "metadata": {},
   "outputs": [
    {
     "name": "stdout",
     "output_type": "stream",
     "text": [
      "Model: \"LSTM\"\n",
      "_________________________________________________________________\n",
      " Layer (type)                Output Shape              Param #   \n",
      "=================================================================\n",
      " input_38 (InputLayer)       [(None, 220, 1)]          0         \n",
      "                                                                 \n",
      " simple_rnn_18 (SimpleRNN)   (None, 220, 16)           288       \n",
      "                                                                 \n",
      " simple_rnn_19 (SimpleRNN)   (None, 16)                528       \n",
      "                                                                 \n",
      " dense_67 (Dense)            (None, 16)                272       \n",
      "                                                                 \n",
      " dense_68 (Dense)            (None, 1)                 17        \n",
      "                                                                 \n",
      "=================================================================\n",
      "Total params: 1,105\n",
      "Trainable params: 1,105\n",
      "Non-trainable params: 0\n",
      "_________________________________________________________________\n",
      "Epoch 1/3\n",
      "225/225 [==============================] - 27s 115ms/step - loss: 0.6918 - Acc: 0.5451 - AUC: 0.5729 - val_loss: 0.6942 - val_Acc: 0.4931 - val_AUC: 0.4937\n",
      "Epoch 2/3\n",
      "225/225 [==============================] - 26s 117ms/step - loss: 0.6955 - Acc: 0.4972 - AUC: 0.4964 - val_loss: 0.6934 - val_Acc: 0.5056 - val_AUC: 0.5000\n",
      "Epoch 3/3\n",
      "225/225 [==============================] - 31s 137ms/step - loss: 0.6943 - Acc: 0.4971 - AUC: 0.4974 - val_loss: 0.6934 - val_Acc: 0.4944 - val_AUC: 0.5000\n"
     ]
    },
    {
     "data": {
      "text/plain": [
       "<keras.callbacks.History at 0x7fb4186acfa0>"
      ]
     },
     "execution_count": 63,
     "metadata": {},
     "output_type": "execute_result"
    }
   ],
   "source": [
    "hidden_states = 32\n",
    "rnn_states    = 16\n",
    "layers        = 3\n",
    "activation    = \"relu\"\n",
    "epochs        = 3\n",
    "learning_rate = 0.1\n",
    "dropout       = 0.1\n",
    "batch_size    = 64\n",
    "\n",
    "\n",
    "input = Input((220, 1))\n",
    "\n",
    "# x     = Dense(hidden_states)(input)\n",
    "\n",
    "x     = SimpleRNN(rnn_states,  return_sequences = True, activation = \"tanh\")(input)\n",
    "x     = SimpleRNN(rnn_states, activation = \"tanh\")(x)\n",
    "\n",
    "x     = Dense(hidden_states // 2, activation = \"relu\")(x)\n",
    "\n",
    "out = Dense(1, activation = \"sigmoid\")(x)\n",
    "\n",
    "model = Model(inputs = input, outputs = out, name = \"LSTM\")\n",
    "\n",
    "\n",
    "\n",
    "model.compile(  loss      = BinaryCrossentropy(from_logits = False),\n",
    "                metrics   = [BinaryAccuracy(name = \"Acc\"), AUC(name = \"AUC\")],\n",
    "                optimizer = Adam(learning_rate = learning_rate))\n",
    "\n",
    "model.summary()\n",
    "\n",
    "model.fit(X_train_scaled, Y_train, epochs = epochs, batch_size = batch_size, validation_split = 0.1)\n"
   ]
  },
  {
   "cell_type": "code",
   "execution_count": 30,
   "metadata": {},
   "outputs": [
    {
     "name": "stdout",
     "output_type": "stream",
     "text": [
      "500/500 [==============================] - 0s 916us/step - loss: 0.0000e+00 - binary_accuracy: 0.0000e+00\n"
     ]
    },
    {
     "data": {
      "text/plain": [
       "[0.0, 0.0]"
      ]
     },
     "execution_count": 30,
     "metadata": {},
     "output_type": "execute_result"
    }
   ],
   "source": [
    "model.evaluate(X_train)"
   ]
  },
  {
   "cell_type": "code",
   "execution_count": null,
   "metadata": {},
   "outputs": [],
   "source": []
  }
 ],
 "metadata": {
  "interpreter": {
   "hash": "609b8e94a29404947100e7ebc1571deda4e76c5e365f7a0289290abec32388f1"
  },
  "kernelspec": {
   "display_name": "Python 3.9.7 64-bit ('base': conda)",
   "language": "python",
   "name": "python3"
  },
  "language_info": {
   "codemirror_mode": {
    "name": "ipython",
    "version": 3
   },
   "file_extension": ".py",
   "mimetype": "text/x-python",
   "name": "python",
   "nbconvert_exporter": "python",
   "pygments_lexer": "ipython3",
   "version": "3.9.7"
  },
  "orig_nbformat": 4
 },
 "nbformat": 4,
 "nbformat_minor": 2
}
