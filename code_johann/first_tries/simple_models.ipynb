{
 "cells": [
  {
   "cell_type": "markdown",
   "metadata": {},
   "source": [
    "# Simple Tensorflow Models"
   ]
  },
  {
   "cell_type": "markdown",
   "metadata": {},
   "source": [
    "In this Notebook we will be working on some simple tensorflow models for the classification. We will try out:\n",
    "- Baseline (a threshhold model to compare against)\n",
    "- Feed-forward network\n",
    "- LSTM network\n",
    "- Auto-encoder for anomaly detection"
   ]
  },
  {
   "cell_type": "markdown",
   "metadata": {},
   "source": [
    "## Setup of Data "
   ]
  },
  {
   "cell_type": "code",
   "execution_count": 1,
   "metadata": {},
   "outputs": [
    {
     "name": "stderr",
     "output_type": "stream",
     "text": [
      "2022-01-26 19:59:26.248633: W tensorflow/stream_executor/platform/default/dso_loader.cc:64] Could not load dynamic library 'libcudart.so.11.0'; dlerror: libcudart.so.11.0: cannot open shared object file: No such file or directory\n",
      "2022-01-26 19:59:26.248688: I tensorflow/stream_executor/cuda/cudart_stub.cc:29] Ignore above cudart dlerror if you do not have a GPU set up on your machine.\n"
     ]
    }
   ],
   "source": [
    "import os\n",
    "\n",
    "import numpy  as np\n",
    "import pandas as pd\n",
    "\n",
    "import matplotlib.pyplot as plt\n",
    "\n",
    "\n",
    "import tensorflow as tf\n",
    "\n",
    "from sklearn.model_selection import train_test_split\n",
    "from sklearn.metrics import roc_curve, roc_auc_score\n",
    "\n",
    "# Colors using scheme\n",
    "c = [\"#\" + i for i  in \"264653-2a9d8f-e9c46a-f4a261-e76f51\".split(\"-\")]"
   ]
  },
  {
   "cell_type": "code",
   "execution_count": 2,
   "metadata": {},
   "outputs": [],
   "source": [
    "data_trace_high = pd.read_csv(\"/mnt/c/Users/johan/Desktop/CMT_project/data/traces_high.txt\", sep = \" \", header = None)\n",
    "data_trace_low  = pd.read_csv(\"/mnt/c/Users/johan/Desktop/CMT_project/data/traces_low.txt\",  sep = \" \", header = None)"
   ]
  },
  {
   "cell_type": "code",
   "execution_count": 3,
   "metadata": {},
   "outputs": [],
   "source": [
    "rand_seed  = 1969\n",
    "test_split = 0.2\n",
    "\n",
    "\n",
    "high_labels = np.ones(data_trace_high.shape[0])\n",
    "low_labels  = np.zeros(data_trace_low.shape[0])\n",
    "\n",
    "data        = pd.concat([data_trace_high, data_trace_low])\n",
    "labels      = np.concatenate([high_labels,     low_labels])\n",
    "\n",
    "\n",
    "X_train, X_test, Y_train, Y_test = train_test_split(data, labels, test_size = test_split)"
   ]
  },
  {
   "cell_type": "code",
   "execution_count": 66,
   "metadata": {},
   "outputs": [
    {
     "data": {
      "text/plain": [
       "(16000,)"
      ]
     },
     "execution_count": 66,
     "metadata": {},
     "output_type": "execute_result"
    }
   ],
   "source": [
    "Y_train.shape"
   ]
  },
  {
   "cell_type": "markdown",
   "metadata": {},
   "source": [
    "## Baseline Models\n",
    "We will try to make some simple models, which we can use as a baseline which our Neural Networks have to compete with."
   ]
  },
  {
   "cell_type": "markdown",
   "metadata": {},
   "source": [
    "### Threshhold\n",
    "\n",
    "Simple models reading out simple characteristics"
   ]
  },
  {
   "cell_type": "markdown",
   "metadata": {},
   "source": [
    "In this model we simply look at timesteps between 50 and 100 and take the highest values. We will use that value as threshhold value in a ROC-curve"
   ]
  },
  {
   "cell_type": "code",
   "execution_count": 4,
   "metadata": {},
   "outputs": [
    {
     "name": "stdout",
     "output_type": "stream",
     "text": [
      "AUC score: 0.873\n"
     ]
    },
    {
     "data": {
      "image/png": "[encoded data removed]",
      "text/plain": [
       "<Figure size 432x288 with 1 Axes>"
      ]
     },
     "metadata": {
      "needs_background": "light"
     },
     "output_type": "display_data"
    }
   ],
   "source": [
    "peak_height = X_test.iloc[:, 50:150].max(1)\n",
    "\n",
    "roc         = roc_curve(Y_test, peak_height)\n",
    "auc         = roc_auc_score(Y_test, peak_height)\n",
    "\n",
    "plt.plot(roc[0], roc[1])\n",
    "\n",
    "print(f\"AUC score: {auc:.3f}\")\n"
   ]
  },
  {
   "cell_type": "markdown",
   "metadata": {},
   "source": [
    "### XGBoost\n",
    "Pretty much a boosted decision tree from the box. "
   ]
  },
  {
   "cell_type": "code",
   "execution_count": 5,
   "metadata": {},
   "outputs": [
    {
     "name": "stderr",
     "output_type": "stream",
     "text": [
      "/home/johannbs/anaconda3/envs/tensorflow/lib/python3.9/site-packages/xgboost/sklearn.py:1224: UserWarning: The use of label encoder in XGBClassifier is deprecated and will be removed in a future release. To remove this warning, do the following: 1) Pass option use_label_encoder=False when constructing XGBClassifier object; and 2) Encode your labels (y) as integers starting with 0, i.e. 0, 1, 2, ..., [num_class - 1].\n",
      "  warnings.warn(label_encoder_deprecation_msg, UserWarning)\n"
     ]
    },
    {
     "name": "stdout",
     "output_type": "stream",
     "text": [
      "[19:59:32] WARNING: ../src/learner.cc:1115: Starting in XGBoost 1.3.0, the default evaluation metric used with the objective 'binary:logistic' was changed from 'error' to 'logloss'. Explicitly set eval_metric if you'd like to restore the old behavior.\n"
     ]
    },
    {
     "data": {
      "text/plain": [
       "XGBClassifier(base_score=0.5, booster='gbtree', colsample_bylevel=1,\n",
       "              colsample_bynode=1, colsample_bytree=1, enable_categorical=False,\n",
       "              gamma=0, gpu_id=-1, importance_type=None,\n",
       "              interaction_constraints='', learning_rate=0.300000012,\n",
       "              max_delta_step=0, max_depth=6, min_child_weight=1, missing=nan,\n",
       "              monotone_constraints='()', n_estimators=100, n_jobs=8,\n",
       "              num_parallel_tree=1, predictor='auto', random_state=0,\n",
       "              reg_alpha=0, reg_lambda=1, scale_pos_weight=1, subsample=1,\n",
       "              tree_method='exact', validate_parameters=1, verbosity=None)"
      ]
     },
     "execution_count": 5,
     "metadata": {},
     "output_type": "execute_result"
    }
   ],
   "source": [
    "from xgboost import XGBClassifier\n",
    "from sklearn.preprocessing import RobustScaler\n",
    "\n",
    "def preprocess_xgboost(df):\n",
    "    data_fft = np.fft.rfft(df)\n",
    "\n",
    "    fft_abs   = np.abs(data_fft)\n",
    "    phase     = np.angle(data_fft)\n",
    "    phase_cos = np.cos(phase)\n",
    "    phase_sin = np.sin(phase) \n",
    "\n",
    "    data      = np.concatenate([df.to_numpy(), fft_abs, phase_cos, phase_sin], axis = 1)\n",
    "\n",
    "    return data\n",
    "\n",
    "xgboost_X_train = preprocess_xgboost(X_train)\n",
    "xgboost_X_test  = preprocess_xgboost(X_test)\n",
    "\n",
    "\n",
    "classifier      = XGBClassifier()\n",
    "\n",
    "\n",
    "classifier.fit(xgboost_X_train, Y_train)\n"
   ]
  },
  {
   "cell_type": "code",
   "execution_count": 6,
   "metadata": {},
   "outputs": [
    {
     "name": "stdout",
     "output_type": "stream",
     "text": [
      "0.8827627468157961\n"
     ]
    },
    {
     "data": {
      "text/plain": [
       "[<matplotlib.lines.Line2D at 0x7f25a33bd040>]"
      ]
     },
     "execution_count": 6,
     "metadata": {},
     "output_type": "execute_result"
    },
    {
     "data": {
      "image/png": "[encoded data removed]",
      "text/plain": [
       "<Figure size 432x288 with 1 Axes>"
      ]
     },
     "metadata": {
      "needs_background": "light"
     },
     "output_type": "display_data"
    }
   ],
   "source": [
    "xgboost_scores = classifier.predict_proba(xgboost_X_test)\n",
    "\n",
    "print(roc_auc_score(Y_test, xgboost_scores[:, 1]))\n",
    "\n",
    "\n",
    "xgboost_roc = roc_curve(Y_test, xgboost_scores[:, 1])\n",
    "\n",
    "plt.plot(xgboost_roc[0], xgboost_roc[1])"
   ]
  },
  {
   "cell_type": "markdown",
   "metadata": {},
   "source": [
    "## Neural Network Models\n"
   ]
  },
  {
   "cell_type": "markdown",
   "metadata": {},
   "source": [
    "### Simple Feed Forward"
   ]
  },
  {
   "cell_type": "code",
   "execution_count": 70,
   "metadata": {},
   "outputs": [],
   "source": [
    "from sklearn.preprocessing import RobustScaler\n",
    "scaler = RobustScaler()\n",
    "\n",
    "\n",
    "X_train_scaled = np.expand_dims(scaler.fit_transform(X_train), -1)\n",
    "X_test_scaled  = np.expand_dims(scaler.transform(X_test), -1)"
   ]
  },
  {
   "cell_type": "code",
   "execution_count": 101,
   "metadata": {},
   "outputs": [],
   "source": [
    "from tensorflow.keras.layers import Dense, Input\n",
    "from tensorflow.keras import Model\n",
    "from tensorflow.keras.metrics import AUC, BinaryAccuracy\n",
    "from tensorflow.keras.losses import BinaryCrossentropy\n",
    "from tensorflow.keras.optimizers import Adam\n",
    "\n",
    "import tensorflow.keras.backend as K"
   ]
  },
  {
   "cell_type": "code",
   "execution_count": 103,
   "metadata": {},
   "outputs": [],
   "source": [
    "from keras_lr_finder import LRFinder\n",
    "\n",
    "from tensorflow.keras.layers import Bidirectional, LSTM, Dropout"
   ]
  },
  {
   "cell_type": "code",
   "execution_count": 109,
   "metadata": {},
   "outputs": [
    {
     "name": "stdout",
     "output_type": "stream",
     "text": [
      "Model: \"model_17\"\n",
      "_________________________________________________________________\n",
      " Layer (type)                Output Shape              Param #   \n",
      "=================================================================\n",
      " input_43 (InputLayer)       [(None, 220, 1)]          0         \n",
      "                                                                 \n",
      " bidirectional_16 (Bidirecti  (None, 220, 16)          640       \n",
      " onal)                                                           \n",
      "                                                                 \n",
      " bidirectional_17 (Bidirecti  (None, 220, 16)          1600      \n",
      " onal)                                                           \n",
      "                                                                 \n",
      " bidirectional_18 (Bidirecti  (None, 220, 16)          1600      \n",
      " onal)                                                           \n",
      "                                                                 \n",
      " tf.reshape_16 (TFOpLambda)  (None, 3520)              0         \n",
      "                                                                 \n",
      " dense_165 (Dense)           (None, 128)               450688    \n",
      "                                                                 \n",
      " dropout_16 (Dropout)        (None, 128)               0         \n",
      "                                                                 \n",
      " dense_166 (Dense)           (None, 128)               16512     \n",
      "                                                                 \n",
      " dropout_17 (Dropout)        (None, 128)               0         \n",
      "                                                                 \n",
      " dense_167 (Dense)           (None, 128)               16512     \n",
      "                                                                 \n",
      " dense_168 (Dense)           (None, 1)                 129       \n",
      "                                                                 \n",
      "=================================================================\n",
      "Total params: 487,681\n",
      "Trainable params: 487,681\n",
      "Non-trainable params: 0\n",
      "_________________________________________________________________\n"
     ]
    }
   ],
   "source": [
    "hidden_states = 128\n",
    "rnn_states    = 8\n",
    "dropout       = 0.15\n",
    "bi_directional  = True\n",
    "\n",
    "epochs        = 10\n",
    "batch_size    = 16\n",
    "timesteps     = 220\n",
    "\n",
    "\n",
    "input = Input(shape = (timesteps, 1))\n",
    "\n",
    "x  = Bidirectional(LSTM(rnn_states, return_sequences = True, dropout = dropout))(input)\n",
    "x  = Bidirectional(LSTM(rnn_states, return_sequences = True, dropout = dropout))(x)\n",
    "x  = Bidirectional(LSTM(rnn_states, return_sequences = True, dropout = dropout))(x)\n",
    "\n",
    "# x = GRU(rnn_states, input_shape = (timesteps, 1), return_sequences = True, activation = \"tanh\")(input)\n",
    "\n",
    "x = tf.reshape(x, (-1, rnn_states * timesteps * (1 + bi_directional)))\n",
    "\n",
    "x    = Dense(hidden_states)(x)\n",
    "x    = Dropout(dropout)(x)\n",
    "x    = Dense(hidden_states)(x)\n",
    "x    = Dropout(dropout)(x)\n",
    "x    = Dense(hidden_states)(x)\n",
    "out  = Dense(1)(x)\n",
    "\n",
    "model = Model(inputs = input, outputs = out)\n",
    "\n",
    "\n",
    "optimizer = Adam(learning_rate = 3e-2, decay = 1e-5)\n",
    "\n",
    "model.compile(  loss      = BinaryCrossentropy(from_logits = True),\n",
    "                metrics   = [BinaryAccuracy(name = \"Acc\", threshold=0), AUC(name = \"AUC\", from_logits = True)],\n",
    "                optimizer = \"adam\")\n",
    "\n",
    "\n",
    "# finder = LRFinder(model)\n",
    "\n",
    "# finder.find(X_train_scaled, Y_train, 1e-7, 1e-1, batch_size = batch_size)\n",
    "# finder.plot_loss()\n",
    "\n",
    "model.summary()\n",
    "\n"
   ]
  },
  {
   "cell_type": "code",
   "execution_count": 110,
   "metadata": {},
   "outputs": [
    {
     "name": "stdout",
     "output_type": "stream",
     "text": [
      "Epoch 1/10\n",
      "900/900 [==============================] - 201s 216ms/step - loss: 0.5832 - Acc: 0.7696 - AUC: 0.8234 - val_loss: 0.4281 - val_Acc: 0.8313 - val_AUC: 0.8901\n",
      "Epoch 2/10\n",
      "900/900 [==============================] - 260s 288ms/step - loss: 0.4425 - Acc: 0.8232 - AUC: 0.8784 - val_loss: 0.4847 - val_Acc: 0.8100 - val_AUC: 0.8955\n",
      "Epoch 3/10\n",
      "900/900 [==============================] - 259s 288ms/step - loss: 0.4239 - Acc: 0.8368 - AUC: 0.8855 - val_loss: 0.4056 - val_Acc: 0.8519 - val_AUC: 0.9024\n",
      "Epoch 4/10\n",
      "900/900 [==============================] - 386s 429ms/step - loss: 0.4067 - Acc: 0.8437 - AUC: 0.8934 - val_loss: 0.4135 - val_Acc: 0.8369 - val_AUC: 0.8966\n",
      "Epoch 5/10\n",
      "900/900 [==============================] - 236s 262ms/step - loss: 0.4123 - Acc: 0.8424 - AUC: 0.8927 - val_loss: 0.4970 - val_Acc: 0.8413 - val_AUC: 0.9012\n",
      "Epoch 6/10\n",
      "900/900 [==============================] - 246s 274ms/step - loss: 0.4077 - Acc: 0.8438 - AUC: 0.8932 - val_loss: 0.3869 - val_Acc: 0.8481 - val_AUC: 0.9055\n",
      "Epoch 7/10\n",
      "900/900 [==============================] - 266s 295ms/step - loss: 0.4478 - Acc: 0.8136 - AUC: 0.8752 - val_loss: 0.4542 - val_Acc: 0.8131 - val_AUC: 0.8803\n",
      "Epoch 8/10\n",
      "900/900 [==============================] - 301s 334ms/step - loss: 0.4403 - Acc: 0.8242 - AUC: 0.8787 - val_loss: 0.4064 - val_Acc: 0.8338 - val_AUC: 0.8963\n",
      "Epoch 9/10\n",
      "900/900 [==============================] - 306s 340ms/step - loss: 0.4222 - Acc: 0.8328 - AUC: 0.8879 - val_loss: 0.5055 - val_Acc: 0.8194 - val_AUC: 0.8965\n",
      "Epoch 10/10\n",
      "900/900 [==============================] - 274s 304ms/step - loss: 0.4106 - Acc: 0.8389 - AUC: 0.8933 - val_loss: 0.4055 - val_Acc: 0.8313 - val_AUC: 0.9018\n",
      "125/125 [==============================] - 14s 92ms/step - loss: 0.3890 - Acc: 0.8460 - AUC: 0.9051\n"
     ]
    },
    {
     "data": {
      "text/plain": [
       "[0.3889538049697876, 0.8460000157356262, 0.9050827622413635]"
      ]
     },
     "execution_count": 110,
     "metadata": {},
     "output_type": "execute_result"
    }
   ],
   "source": [
    "K.set_value(model.optimizer.learning_rate, 1e-2)\n",
    "\n",
    "model.fit(X_train_scaled, Y_train, epochs = epochs, batch_size = batch_size, validation_split = 0.1)\n",
    "model.evaluate(X_test_scaled, Y_test)"
   ]
  },
  {
   "cell_type": "code",
   "execution_count": null,
   "metadata": {},
   "outputs": [],
   "source": []
  }
 ],
 "metadata": {
  "interpreter": {
   "hash": "609b8e94a29404947100e7ebc1571deda4e76c5e365f7a0289290abec32388f1"
  },
  "kernelspec": {
   "display_name": "Python 3.9.7 64-bit ('base': conda)",
   "language": "python",
   "name": "python3"
  },
  "language_info": {
   "codemirror_mode": {
    "name": "ipython",
    "version": 3
   },
   "file_extension": ".py",
   "mimetype": "text/x-python",
   "name": "python",
   "nbconvert_exporter": "python",
   "pygments_lexer": "ipython3",
   "version": "3.9.7"
  },
  "orig_nbformat": 4
 },
 "nbformat": 4,
 "nbformat_minor": 2
}
